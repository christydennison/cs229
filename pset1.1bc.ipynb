{
 "cells": [
  {
   "cell_type": "markdown",
   "metadata": {
    "deletable": true,
    "editable": true
   },
   "source": [
    "# Pset1 1bc"
   ]
  },
  {
   "cell_type": "code",
   "execution_count": 1,
   "metadata": {
    "collapsed": false,
    "deletable": true,
    "editable": true
   },
   "outputs": [],
   "source": [
    "from __future__ import print_function\n",
    "import time, os, json\n",
    "import numpy as np\n",
    "import matplotlib.pyplot as plt\n",
    "\n",
    "%matplotlib inline\n",
    "plt.rcParams['figure.figsize'] = (10.0, 8.0) # set default size of plots\n",
    "plt.rcParams['image.interpolation'] = 'nearest'\n",
    "plt.rcParams['image.cmap'] = 'gray'\n",
    "\n",
    "# for auto-reloading external modules\n",
    "# see http://stackoverflow.com/questions/1907993/autoreload-of-modules-in-ipython\n",
    "%load_ext autoreload\n",
    "%autoreload 2"
   ]
  },
  {
   "cell_type": "markdown",
   "metadata": {
    "deletable": true,
    "editable": true
   },
   "source": [
    "# Load"
   ]
  },
  {
   "cell_type": "code",
   "execution_count": 13,
   "metadata": {
    "collapsed": false,
    "deletable": true,
    "editable": true
   },
   "outputs": [
    {
     "name": "stdout",
     "output_type": "stream",
     "text": [
      "x: (99, 2)\n",
      "y: (99,)\n"
     ]
    }
   ],
   "source": [
    "x = np.loadtxt('logistic_x.txt')\n",
    "y = np.loadtxt('logistic_y.txt')\n",
    "\n",
    "#x = np.insert(x, [0], np.ones((x.shape[0], 1)), axis=1)\n",
    "\n",
    "print(\"x:\", x.shape)\n",
    "print(\"y:\", y.shape)"
   ]
  },
  {
   "cell_type": "markdown",
   "metadata": {},
   "source": [
    "## Plot points\n",
    "Let's see the dataset before we transform it."
   ]
  },
  {
   "cell_type": "code",
   "execution_count": 14,
   "metadata": {
    "collapsed": false
   },
   "outputs": [
    {
     "data": {
      "image/png": "[encoded data removed]",
      "text/plain": [
       "<matplotlib.figure.Figure at 0x7f5b61d2acf8>"
      ]
     },
     "metadata": {},
     "output_type": "display_data"
    }
   ],
   "source": [
    "pos_x = x[y>0]\n",
    "neg_x = x[y<0]\n",
    "\n",
    "plt.ylabel('x2')\n",
    "plt.xlabel('x1')\n",
    "\n",
    "plt.scatter(pos_x[:,0],pos_x[:,1], marker='^')\n",
    "plt.scatter(neg_x[:,0],neg_x[:,1])\n",
    "plt.show()"
   ]
  },
  {
   "cell_type": "markdown",
   "metadata": {
    "collapsed": true
   },
   "source": [
    "## Define Functions"
   ]
  },
  {
   "cell_type": "code",
   "execution_count": 16,
   "metadata": {
    "collapsed": false
   },
   "outputs": [],
   "source": [
    "m = y.shape[0]\n",
    "n = x.shape[1]\n",
    "\n",
    "def gradient(theta):\n",
    "    g = np.zeros((n,))\n",
    "    for i in range(m):\n",
    "        x_i = x[i]\n",
    "        y_i = y[i]\n",
    "        yx = np.dot(y_i, x_i)\n",
    "        top = -1*yx\n",
    "        yox = np.dot(np.dot(y_i, theta), x_i)\n",
    "        bottom = (1 + np.exp(yox))**-1\n",
    "        g = np.add(g, bottom*top)\n",
    "    return g\n",
    "\n",
    "def hessian(theta):\n",
    "    h = np.zeros((n,n))\n",
    "    for i in range(m):\n",
    "        x_i = x[i]\n",
    "        y_i = y[i]\n",
    "        yx = np.dot(y_i, x_i)\n",
    "        yx2 = np.outer(yx, yx)\n",
    "        yox = np.dot(np.dot(y_i, theta), x_i)\n",
    "        top = np.exp(yox)*yx2\n",
    "        yoxp1 = (1 + yox)\n",
    "        bottom = np.dot(yoxp1, yoxp1)**-1\n",
    "        h = np.add(h, bottom*top)\n",
    "    return h\n",
    "        \n",
    "def newton(z):\n",
    "    z1 = z - np.dot(np.linalg.inv(hessian(z)), gradient(z))\n",
    "    return z1\n",
    "\n",
    "def hypothesis(theta):\n",
    "    return (1 + np.exp(-np.dot(theta, x.T)))**-1"
   ]
  },
  {
   "cell_type": "markdown",
   "metadata": {},
   "source": [
    "## Compute Theta"
   ]
  },
  {
   "cell_type": "code",
   "execution_count": 17,
   "metadata": {
    "collapsed": false
   },
   "outputs": [
    {
     "name": "stdout",
     "output_type": "stream",
     "text": [
      "[ 0.  0.]\n",
      "[ 0.03205644  0.17900929]\n",
      "[ 0.06250264  0.34759674]\n",
      "[ 0.08261279  0.44195372]\n",
      "[ 0.08382789  0.44360753]\n",
      "[ 0.08427155  0.44422492]\n",
      "[ 0.08452131  0.44458266]\n",
      "[ 0.08468426  0.44482489]\n",
      "[ 0.08479939  0.44500413]\n",
      "[ 0.08488488  0.44514493]\n",
      "[ 0.08495049  0.44526057]\n"
     ]
    }
   ],
   "source": [
    "theta = np.zeros((n,))\n",
    "print(theta)\n",
    "\n",
    "for i in range(10):\n",
    "    theta = newton(theta) \n",
    "    print(theta)\n",
    "\n",
    "new_theta = theta"
   ]
  },
  {
   "cell_type": "markdown",
   "metadata": {},
   "source": [
    "Newton's method works so well it's almost not worth doing more than 5 iterations."
   ]
  },
  {
   "cell_type": "markdown",
   "metadata": {},
   "source": [
    "## Compute dividing line"
   ]
  },
  {
   "cell_type": "code",
   "execution_count": 18,
   "metadata": {
    "collapsed": false
   },
   "outputs": [
    {
     "data": {
      "image/png": "[encoded data removed]",
      "text/plain": [
       "<matplotlib.figure.Figure at 0x7f5b61b07da0>"
      ]
     },
     "metadata": {},
     "output_type": "display_data"
    }
   ],
   "source": [
    "# Classified points\n",
    "hyp = hypothesis(new_theta)\n",
    "pos_x_c = x[hyp>0.5]\n",
    "neg_x_c = x[hyp<=0.5]\n",
    "\n",
    "# Solving the hypothesis for 0.5, we get that the dividing line will be where x is orthogonal to theta\n",
    "# In 2d, this is easy to calculate by reversing and subtracting the first term\n",
    "# We need at least two points to plot, so we use a multiple of the orthogonal theta point\n",
    "ortho_theta = np.asarray([-new_theta[1], new_theta[0]])\n",
    "ortho_points = np.asarray([ortho_theta, ortho_theta*-20])\n",
    "\n",
    "plt.ylabel('x2')\n",
    "plt.xlabel('x1')\n",
    "\n",
    "plt.scatter(pos_x_c[:,0],pos_x_c[:,1], marker='^')\n",
    "plt.scatter(neg_x_c[:,0],neg_x_c[:,1])\n",
    "plt.plot(ortho_points[:,0], ortho_points[:,1], \"r\")\n",
    "plt.show()"
   ]
  },
  {
   "cell_type": "markdown",
   "metadata": {},
   "source": [
    "We can see that the dividing line separates the classified points. But how well did it do?"
   ]
  },
  {
   "cell_type": "code",
   "execution_count": 182,
   "metadata": {
    "collapsed": false
   },
   "outputs": [
    {
     "data": {
      "image/png": "[encoded data removed]",
      "text/plain": [
       "<matplotlib.figure.Figure at 0x7fc396587f60>"
      ]
     },
     "metadata": {},
     "output_type": "display_data"
    }
   ],
   "source": [
    "false_pos_ind = np.logical_and(hyp>0.5, y<=0.5)\n",
    "false_neg_ind = np.logical_and(hyp<=0.5, y>0.5)\n",
    "false_pos_x_c = x[false_pos_ind]\n",
    "false_neg_x_c = x[false_neg_ind]\n",
    "\n",
    "plt.ylabel('x2')\n",
    "plt.xlabel('x1')\n",
    "\n",
    "plt.scatter(pos_x[:,0],pos_x[:,1], marker='^')\n",
    "plt.scatter(neg_x[:,0],neg_x[:,1])\n",
    "plt.scatter(false_pos_x_c[:,0],false_pos_x_c[:,1], c='y')\n",
    "plt.scatter(false_neg_x_c[:,0],false_neg_x_c[:,1], c='tab:purple', marker='^')\n",
    "plt.plot(ortho_points[:,0], ortho_points[:,1], c='r')\n",
    "plt.show()"
   ]
  },
  {
   "cell_type": "markdown",
   "metadata": {},
   "source": [
    "Not too terrible. Those circles are pretty deep in the triangle forest."
   ]
  },
  {
   "cell_type": "code",
   "execution_count": null,
   "metadata": {
    "collapsed": true
   },
   "outputs": [],
   "source": []
  }
 ],
 "metadata": {
  "kernelspec": {
   "display_name": "Python 3",
   "language": "python",
   "name": "python3"
  },
  "language_info": {
   "codemirror_mode": {
    "name": "ipython",
    "version": 3
   },
   "file_extension": ".py",
   "mimetype": "text/x-python",
   "name": "python",
   "nbconvert_exporter": "python",
   "pygments_lexer": "ipython3",
   "version": "3.5.2"
  }
 },
 "nbformat": 4,
 "nbformat_minor": 1
}
