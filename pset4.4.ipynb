{
 "cells": [
  {
   "cell_type": "markdown",
   "metadata": {
    "deletable": true,
    "editable": true
   },
   "source": [
    "# Pset4.4"
   ]
  },
  {
   "cell_type": "code",
   "execution_count": 9,
   "metadata": {
    "collapsed": false,
    "deletable": true,
    "editable": true
   },
   "outputs": [
    {
     "name": "stdout",
     "output_type": "stream",
     "text": [
      "The autoreload extension is already loaded. To reload it, use:\n",
      "  %reload_ext autoreload\n"
     ]
    }
   ],
   "source": [
    "from __future__ import print_function, division\n",
    "import numpy as np\n",
    "import matplotlib.pyplot as plt\n",
    "import sounddevice as sd\n",
    "\n",
    "%matplotlib inline\n",
    "plt.rcParams['figure.figsize'] = (10.0, 8.0) # set default size of plots\n",
    "plt.rcParams['image.interpolation'] = 'nearest'\n",
    "plt.rcParams['image.cmap'] = 'gray'\n",
    "\n",
    "# for auto-reloading external modules\n",
    "# see http://stackoverflow.com/questions/1907993/autoreload-of-modules-in-ipython\n",
    "%load_ext autoreload\n",
    "%autoreload 2"
   ]
  },
  {
   "cell_type": "code",
   "execution_count": 19,
   "metadata": {
    "collapsed": false
   },
   "outputs": [],
   "source": [
    "Fs = 11025\n",
    "\n",
    "def normalize(dat):\n",
    "    return 0.99 * dat / np.max(np.abs(dat))\n",
    "\n",
    "def load_data():\n",
    "    mix = np.loadtxt('mix.dat')\n",
    "    return mix\n",
    "\n",
    "def play(vec):\n",
    "    sd.play(vec, Fs, blocking=True)\n",
    "\n",
    "def sigmoid(x):\n",
    "    return .5 * (1 + np.tanh(.5 * x))\n",
    "\n",
    "def unmixer(X):\n",
    "    M, N = X.shape\n",
    "    W = np.eye(N)\n",
    "\n",
    "    anneal = [0.1, 0.1, 0.1, 0.05, 0.05, 0.05, 0.02, 0.02, 0.01, 0.01,\n",
    "              0.005, 0.005, 0.002, 0.002, 0.001, 0.001]\n",
    "    print('Separating tracks ')\n",
    "    ######## Your code here ##########\n",
    "    #for a in anneal[0:1]:\n",
    "        #for i in range(5):\n",
    "            #    W = W + a*(np.dot(1-2*sigmoid(np.dot(W.T,X.T)), X) + np.linalg.inv(W.T))\n",
    "    #    print(\".\", end=\"\")\n",
    "    a = 0.05\n",
    "    W = W + a*(np.dot(1-2*sigmoid(np.dot(W.T, X.T)),  X) + np.linalg.inv(W.T))\n",
    "            # for m in range(M):\n",
    "            #     x = X[:,m]\n",
    "            #     print(\"x\", x.shape)\n",
    "            #     first_dot = np.dot(W.T, x)\n",
    "            #     print(first_dot.shape)\n",
    "            #     W = W + a*(np.dot(1-2*sigmoid(np.dot(W.T, x)),  x.T) + np.linalg.inv(W.T))\n",
    "    ###################################\n",
    "    return W\n",
    "\n",
    "def unmix(X, W):\n",
    "    M, N = X.shape\n",
    "    S = np.zeros(X.shape)\n",
    "\n",
    "    ######### Your code here ##########\n",
    "    S = np.dot(W,X)\n",
    "    ##################################\n",
    "    return S\n",
    "\n",
    "def main():\n",
    "    X = normalize(load_data())\n",
    "\n",
    "    #for i in range(X.shape[1]):\n",
    "    #   print('Playing mixed track %d' % i)\n",
    "    #   play(X[:, i])\n",
    "    print(X.shape)\n",
    "\n",
    "    W = unmixer(X)\n",
    "    print(W.shape)\n",
    "    S = normalize(unmix(X, W))\n",
    "    print(S.shape)\n",
    "\n",
    "    for i in range(S.shape[1]):\n",
    "        print('Playing separated track %d' % i)\n",
    "        play(S[:, i])\n"
   ]
  },
  {
   "cell_type": "code",
   "execution_count": 15,
   "metadata": {
    "collapsed": false
   },
   "outputs": [
    {
     "name": "stdout",
     "output_type": "stream",
     "text": [
      "(53442, 5)\n"
     ]
    }
   ],
   "source": [
    "X = normalize(load_data())\n",
    "print(X.shape)"
   ]
  },
  {
   "cell_type": "code",
   "execution_count": 20,
   "metadata": {
    "collapsed": false
   },
   "outputs": [
    {
     "name": "stdout",
     "output_type": "stream",
     "text": [
      "Separating tracks \n",
      "(5, 5)\n"
     ]
    }
   ],
   "source": [
    "W = unmixer(X)\n",
    "print(W.shape)"
   ]
  },
  {
   "cell_type": "code",
   "execution_count": null,
   "metadata": {
    "collapsed": true
   },
   "outputs": [],
   "source": [
    "S = normalize(unmix(X, W))\n",
    "print(S.shape)"
   ]
  },
  {
   "cell_type": "code",
   "execution_count": null,
   "metadata": {
    "collapsed": true
   },
   "outputs": [],
   "source": []
  }
 ],
 "metadata": {
  "kernelspec": {
   "display_name": "Python 3",
   "language": "python",
   "name": "python3"
  },
  "language_info": {
   "codemirror_mode": {
    "name": "ipython",
    "version": 3
   },
   "file_extension": ".py",
   "mimetype": "text/x-python",
   "name": "python",
   "nbconvert_exporter": "python",
   "pygments_lexer": "ipython3",
   "version": "3.5.2"
  }
 },
 "nbformat": 4,
 "nbformat_minor": 1
}
