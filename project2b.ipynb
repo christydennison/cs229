{
 "cells": [
  {
   "cell_type": "markdown",
   "metadata": {
    "deletable": true,
    "editable": true
   },
   "source": [
    "# Project 2b"
   ]
  },
  {
   "cell_type": "code",
   "execution_count": 1,
   "metadata": {
    "collapsed": false,
    "deletable": true,
    "editable": true
   },
   "outputs": [],
   "source": [
    "from __future__ import print_function\n",
    "import time, os, json\n",
    "import numpy as np\n",
    "import matplotlib.pyplot as plt\n",
    "import sys\n",
    "import networkx as nx\n",
    "import pandas\n",
    "import collections\n",
    "from math import lgamma\n",
    "\n",
    "%matplotlib inline\n",
    "plt.rcParams['figure.figsize'] = (10.0, 8.0) # set default size of plots\n",
    "plt.rcParams['image.interpolation'] = 'nearest'\n",
    "plt.rcParams['image.cmap'] = 'gray'\n",
    "\n",
    "# for auto-reloading external modules\n",
    "# see http://stackoverflow.com/questions/1907993/autoreload-of-modules-in-ipython\n",
    "%load_ext autoreload\n",
    "%autoreload 2"
   ]
  },
  {
   "cell_type": "code",
   "execution_count": 60,
   "metadata": {
    "collapsed": false
   },
   "outputs": [],
   "source": [
    "mediumDf = pandas.read_csv('medium3.csv')"
   ]
  },
  {
   "cell_type": "code",
   "execution_count": 78,
   "metadata": {
    "collapsed": true
   },
   "outputs": [],
   "source": [
    "states = range(0,50000)\n",
    "actions = sorted(mediumDf.a.unique())\n",
    "stateprimes = mediumDf.sp.unique()"
   ]
  },
  {
   "cell_type": "code",
   "execution_count": 4,
   "metadata": {
    "collapsed": true
   },
   "outputs": [],
   "source": [
    "rewards = mediumDf.r.unique()"
   ]
  },
  {
   "cell_type": "code",
   "execution_count": 5,
   "metadata": {
    "collapsed": false
   },
   "outputs": [
    {
     "data": {
      "text/plain": [
       "array([  -225,  99775,    -25,  99975,      0,   -100,  99900, 100000])"
      ]
     },
     "execution_count": 5,
     "metadata": {},
     "output_type": "execute_result"
    }
   ],
   "source": [
    "rewards"
   ]
  },
  {
   "cell_type": "code",
   "execution_count": null,
   "metadata": {
    "collapsed": true
   },
   "outputs": [],
   "source": [
    "stateprimes"
   ]
  },
  {
   "cell_type": "code",
   "execution_count": 16,
   "metadata": {
    "collapsed": true
   },
   "outputs": [],
   "source": [
    "# R = {}\n",
    "# for s in states:\n",
    "#     R[s] = {}\n",
    "# for row in mediumDf.itertuples():\n",
    "#     if row.a not in R[row.s]:\n",
    "#         R[row.s][row.a] = []\n",
    "#     R[row.s][row.a].append(row.r)"
   ]
  },
  {
   "cell_type": "code",
   "execution_count": 26,
   "metadata": {
    "collapsed": false
   },
   "outputs": [
    {
     "data": {
      "text/plain": [
       "{2: [-100, -100, -100],\n",
       " 3: [-25, -25, -25, -25, -25, -25],\n",
       " 4: [0],\n",
       " 5: [-25, -25, -25],\n",
       " 6: [-100, -100],\n",
       " 7: [-225]}"
      ]
     },
     "execution_count": 26,
     "metadata": {},
     "output_type": "execute_result"
    }
   ],
   "source": [
    "# R[25740]"
   ]
  },
  {
   "cell_type": "code",
   "execution_count": 87,
   "metadata": {
    "collapsed": false
   },
   "outputs": [],
   "source": [
    "reward_mask = mediumDf['r'] >= 100000\n",
    "state_mask = mediumDf['s'] >= 30000\n",
    "max_rewards = mediumDf[reward_mask & state_mask].groupby(['s', 'a', 'r']).size().reset_index(name='counts').sort_values(by=['s'])"
   ]
  },
  {
   "cell_type": "code",
   "execution_count": 92,
   "metadata": {
    "collapsed": false
   },
   "outputs": [],
   "source": [
    "max_reward_states = max_rewards.s.unique()"
   ]
  },
  {
   "cell_type": "code",
   "execution_count": 93,
   "metadata": {
    "collapsed": false
   },
   "outputs": [
    {
     "data": {
      "text/plain": [
       "array([30957, 30959, 30960, 30961, 31457, 32959, 33456])"
      ]
     },
     "execution_count": 93,
     "metadata": {},
     "output_type": "execute_result"
    }
   ],
   "source": [
    "max_reward_states"
   ]
  },
  {
   "cell_type": "code",
   "execution_count": 89,
   "metadata": {
    "collapsed": true
   },
   "outputs": [],
   "source": [
    "# create reward dict by overwriting standard reward when we have a larger reward\n",
    "def get_reward_map(max_rewards):\n",
    "    reward = {}\n",
    "    for s in states:\n",
    "        reward[s] = {1:-225, 2:-100, 3:-25, 4:0, 5:-25, 6:-100, 7:-225}\n",
    "\n",
    "    for row in max_rewards.itertuples():\n",
    "        reward[row.s][row.a] = row.r\n",
    "    return reward"
   ]
  },
  {
   "cell_type": "code",
   "execution_count": 102,
   "metadata": {
    "collapsed": true
   },
   "outputs": [],
   "source": [
    "action_reward_map = {1:-225, 2:-100, 3:-25, 4:0, 5:-25, 6:-100, 7:-225}\n",
    "def get_reward(state, action):\n",
    "    if state in max_reward_states:\n",
    "        return 100000\n",
    "    else:\n",
    "        return action_reward_map[action]"
   ]
  },
  {
   "cell_type": "code",
   "execution_count": 20,
   "metadata": {
    "collapsed": false
   },
   "outputs": [
    {
     "data": {
      "text/plain": [
       "[1, 2, 3, 4, 5, 6, 7]"
      ]
     },
     "execution_count": 20,
     "metadata": {},
     "output_type": "execute_result"
    }
   ],
   "source": [
    "actions"
   ]
  },
  {
   "cell_type": "code",
   "execution_count": 35,
   "metadata": {
    "collapsed": true
   },
   "outputs": [],
   "source": [
    "sasp_counts = mediumDf.groupby(['s', 'a', 'sp']).size().reset_index(name='counts')"
   ]
  },
  {
   "cell_type": "code",
   "execution_count": 97,
   "metadata": {
    "collapsed": false
   },
   "outputs": [],
   "source": [
    "def calc_T(df, states, actions):\n",
    "    T = {}\n",
    "    for s in states:\n",
    "        T[s] = {}\n",
    "\n",
    "    for row in df.itertuples():\n",
    "        if row.a not in T[row.s]:\n",
    "            T[row.s][row.a] = {}\n",
    "        T[row.s][row.a][row.sp] = row.counts\n",
    "    return T"
   ]
  },
  {
   "cell_type": "code",
   "execution_count": 98,
   "metadata": {
    "collapsed": false
   },
   "outputs": [],
   "source": [
    "\n",
    "def calc_T_prob(T, states, actions):\n",
    "    T_prob = {}\n",
    "    for s in states:\n",
    "        T_prob[s] = {}\n",
    "        for a in actions:\n",
    "            T_prob[s][a] = collections.defaultdict(lambda: 0)\n",
    "            if a not in T[s]:\n",
    "                continue\n",
    "#             if a not in T[s]:\n",
    "#                 for n in [1,-1,2,-2,3,-3,4,-4]:\n",
    "#                     if (s+n) in T and a in T[s+n]:\n",
    "#                         T[s][a] = T[s+n][a]\n",
    "#                 if a not in T[s]:\n",
    "#                     print(\"No neighbors of \", s,\" had \", a)\n",
    "#                     continue\n",
    "\n",
    "            sum_val = sum(T[s][a].values())\n",
    "            poss_states = T[s][a].keys()\n",
    "            for sp in poss_states:\n",
    "                T_prob[s][a][sp] = T[s][a][sp]/sum_val\n",
    "    return T_prob"
   ]
  },
  {
   "cell_type": "code",
   "execution_count": 99,
   "metadata": {
    "collapsed": false
   },
   "outputs": [],
   "source": [
    "T = calc_T(sasp_counts, states, actions)\n",
    "T_prob = calc_T_prob(T, states, actions)"
   ]
  },
  {
   "cell_type": "code",
   "execution_count": 39,
   "metadata": {
    "collapsed": false
   },
   "outputs": [],
   "source": [
    "pos_reward_df = mediumDf[mediumDf['r'] > 0].groupby(['r', 'sp']).size().reset_index(name='counts')"
   ]
  },
  {
   "cell_type": "code",
   "execution_count": null,
   "metadata": {
    "collapsed": true
   },
   "outputs": [],
   "source": []
  },
  {
   "cell_type": "code",
   "execution_count": 119,
   "metadata": {
    "collapsed": true
   },
   "outputs": [],
   "source": [
    "def policy_iter(states, actions, T_prob, iters=10):\n",
    "    policy = {}\n",
    "    U = {}\n",
    "    for s in states:\n",
    "        U[s] = 0\n",
    "    for i in range(iters):\n",
    "        for s in states:\n",
    "            action_results = []\n",
    "            for a in actions:\n",
    "                sp_util = []\n",
    "                for sp in T_prob[s][a].keys():\n",
    "                    if sp in T_prob[s][a] and sp in U:\n",
    "                        sp_util.append(T_prob[s][a][sp]*U[sp])\n",
    "                action_results.append(get_reward(s,a) + sum(sp_util))\n",
    "            U[s] = max(action_results)\n",
    "            policy[s] = np.argmax(action_results)+1 ## actions are 1-based\n",
    "    return policy, U"
   ]
  },
  {
   "cell_type": "code",
   "execution_count": 120,
   "metadata": {
    "collapsed": false
   },
   "outputs": [],
   "source": [
    "policy, utility = policy_iter(states, actions, T_prob, 1)"
   ]
  },
  {
   "cell_type": "code",
   "execution_count": 121,
   "metadata": {
    "collapsed": false
   },
   "outputs": [
    {
     "data": {
      "text/plain": [
       "50000"
      ]
     },
     "execution_count": 121,
     "metadata": {},
     "output_type": "execute_result"
    }
   ],
   "source": [
    "len(policy.keys())"
   ]
  },
  {
   "cell_type": "code",
   "execution_count": 106,
   "metadata": {
    "collapsed": false
   },
   "outputs": [
    {
     "data": {
      "text/plain": [
       "50000"
      ]
     },
     "execution_count": 106,
     "metadata": {},
     "output_type": "execute_result"
    }
   ],
   "source": [
    "len(utility.keys())"
   ]
  },
  {
   "cell_type": "code",
   "execution_count": 107,
   "metadata": {
    "collapsed": false
   },
   "outputs": [
    {
     "data": {
      "text/plain": [
       "50000"
      ]
     },
     "execution_count": 107,
     "metadata": {},
     "output_type": "execute_result"
    }
   ],
   "source": [
    "len(states)"
   ]
  },
  {
   "cell_type": "code",
   "execution_count": 122,
   "metadata": {
    "collapsed": true
   },
   "outputs": [],
   "source": [
    "def save_policy(policy, filename):\n",
    "    policy_sorted = []\n",
    "    for s in states:\n",
    "        policy_sorted.append(str(policy[s]))\n",
    "    policy_string = '\\n'.join(policy_sorted)\n",
    "    with open(filename, 'w') as f:\n",
    "        f.write(policy_string)\n",
    "        f.write('\\n4')"
   ]
  },
  {
   "cell_type": "code",
   "execution_count": 123,
   "metadata": {
    "collapsed": false
   },
   "outputs": [],
   "source": [
    "save_policy(policy, 'medium2.policy')"
   ]
  },
  {
   "cell_type": "code",
   "execution_count": null,
   "metadata": {
    "collapsed": true
   },
   "outputs": [],
   "source": []
  }
 ],
 "metadata": {
  "kernelspec": {
   "display_name": "Python 3",
   "language": "python",
   "name": "python3"
  },
  "language_info": {
   "codemirror_mode": {
    "name": "ipython",
    "version": 3
   },
   "file_extension": ".py",
   "mimetype": "text/x-python",
   "name": "python",
   "nbconvert_exporter": "python",
   "pygments_lexer": "ipython3",
   "version": "3.5.2"
  }
 },
 "nbformat": 4,
 "nbformat_minor": 1
}
