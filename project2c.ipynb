{
 "cells": [
  {
   "cell_type": "markdown",
   "metadata": {
    "deletable": true,
    "editable": true
   },
   "source": [
    "# Project 2c"
   ]
  },
  {
   "cell_type": "code",
   "execution_count": 1,
   "metadata": {
    "collapsed": false,
    "deletable": true,
    "editable": true
   },
   "outputs": [],
   "source": [
    "from __future__ import print_function\n",
    "import time, os, json\n",
    "import numpy as np\n",
    "import matplotlib.pyplot as plt\n",
    "import sys\n",
    "import networkx as nx\n",
    "import pandas\n",
    "import collections\n",
    "from math import lgamma\n",
    "\n",
    "%matplotlib inline\n",
    "plt.rcParams['figure.figsize'] = (10.0, 8.0) # set default size of plots\n",
    "plt.rcParams['image.interpolation'] = 'nearest'\n",
    "plt.rcParams['image.cmap'] = 'gray'\n",
    "\n",
    "# for auto-reloading external modules\n",
    "# see http://stackoverflow.com/questions/1907993/autoreload-of-modules-in-ipython\n",
    "%load_ext autoreload\n",
    "%autoreload 2"
   ]
  },
  {
   "cell_type": "code",
   "execution_count": 2,
   "metadata": {
    "collapsed": false
   },
   "outputs": [],
   "source": [
    "largeDf = pandas.read_csv('large2.csv')"
   ]
  },
  {
   "cell_type": "code",
   "execution_count": 7,
   "metadata": {
    "collapsed": true
   },
   "outputs": [],
   "source": [
    "states = sorted(largeDf.s.unique())#range(0,10101010)\n",
    "actions = sorted(largeDf.a.unique())\n",
    "stateprimes = largeDf.sp.unique()"
   ]
  },
  {
   "cell_type": "code",
   "execution_count": 19,
   "metadata": {
    "collapsed": false
   },
   "outputs": [
    {
     "data": {
      "text/plain": [
       "[1,\n",
       " 2,\n",
       " 3,\n",
       " 4,\n",
       " 5,\n",
       " 6,\n",
       " 7,\n",
       " 8,\n",
       " 9,\n",
       " 10,\n",
       " 11,\n",
       " 12,\n",
       " 13,\n",
       " 14,\n",
       " 15,\n",
       " 16,\n",
       " 17,\n",
       " 18,\n",
       " 19,\n",
       " 20,\n",
       " 21,\n",
       " 22,\n",
       " 23,\n",
       " 24,\n",
       " 25,\n",
       " 26,\n",
       " 27,\n",
       " 28,\n",
       " 29,\n",
       " 30,\n",
       " 31,\n",
       " 32,\n",
       " 33,\n",
       " 34,\n",
       " 35,\n",
       " 36,\n",
       " 37,\n",
       " 38,\n",
       " 39,\n",
       " 40,\n",
       " 41,\n",
       " 42,\n",
       " 43,\n",
       " 44,\n",
       " 45,\n",
       " 46,\n",
       " 47,\n",
       " 48,\n",
       " 49,\n",
       " 50,\n",
       " 51,\n",
       " 52,\n",
       " 53,\n",
       " 54,\n",
       " 55,\n",
       " 56,\n",
       " 57,\n",
       " 58,\n",
       " 59,\n",
       " 60,\n",
       " 61,\n",
       " 62,\n",
       " 63,\n",
       " 64,\n",
       " 65,\n",
       " 66,\n",
       " 67,\n",
       " 68,\n",
       " 69,\n",
       " 70,\n",
       " 71,\n",
       " 72,\n",
       " 73,\n",
       " 74,\n",
       " 75,\n",
       " 76,\n",
       " 77,\n",
       " 78,\n",
       " 79,\n",
       " 80,\n",
       " 81,\n",
       " 82,\n",
       " 83,\n",
       " 84,\n",
       " 85,\n",
       " 86,\n",
       " 87,\n",
       " 88,\n",
       " 89,\n",
       " 90,\n",
       " 91,\n",
       " 92,\n",
       " 93,\n",
       " 94,\n",
       " 95,\n",
       " 96,\n",
       " 97,\n",
       " 98,\n",
       " 99,\n",
       " 100,\n",
       " 101,\n",
       " 102,\n",
       " 103,\n",
       " 104,\n",
       " 105,\n",
       " 106,\n",
       " 107,\n",
       " 108,\n",
       " 109,\n",
       " 110,\n",
       " 111,\n",
       " 112,\n",
       " 113,\n",
       " 114,\n",
       " 115,\n",
       " 116,\n",
       " 117,\n",
       " 118,\n",
       " 119,\n",
       " 120,\n",
       " 121,\n",
       " 122,\n",
       " 123,\n",
       " 124,\n",
       " 125]"
      ]
     },
     "execution_count": 19,
     "metadata": {},
     "output_type": "execute_result"
    }
   ],
   "source": [
    "actions"
   ]
  },
  {
   "cell_type": "code",
   "execution_count": 5,
   "metadata": {
    "collapsed": true
   },
   "outputs": [],
   "source": [
    "rewards = largeDf.r.unique()"
   ]
  },
  {
   "cell_type": "code",
   "execution_count": 33,
   "metadata": {
    "collapsed": false
   },
   "outputs": [
    {
     "data": {
      "text/plain": [
       "861064"
      ]
     },
     "execution_count": 33,
     "metadata": {},
     "output_type": "execute_result"
    }
   ],
   "source": [
    "len(states)"
   ]
  },
  {
   "cell_type": "code",
   "execution_count": 18,
   "metadata": {
    "collapsed": false
   },
   "outputs": [
    {
     "data": {
      "text/plain": [
       "'09763087'"
      ]
     },
     "execution_count": 18,
     "metadata": {},
     "output_type": "execute_result"
    }
   ],
   "source": [
    "'%08d' % 9763087"
   ]
  },
  {
   "cell_type": "code",
   "execution_count": 5,
   "metadata": {
    "collapsed": false
   },
   "outputs": [
    {
     "data": {
      "text/plain": [
       "array([  0,  -5,  10,   3, -10, -20,   5,  13,  -2, -15,  -7,  20,   6,\n",
       "       -25,  -4,  16,   1, -12,   9,   8,  30,  23])"
      ]
     },
     "execution_count": 5,
     "metadata": {},
     "output_type": "execute_result"
    }
   ],
   "source": [
    "rewards"
   ]
  },
  {
   "cell_type": "code",
   "execution_count": 19,
   "metadata": {
    "collapsed": false
   },
   "outputs": [],
   "source": [
    "larger_rewards = largeDf[largeDf['r']>0].groupby(['s', 'a', 'r']).size().reset_index(name='counts').sort_values(by=['s'])"
   ]
  },
  {
   "cell_type": "code",
   "execution_count": 87,
   "metadata": {
    "collapsed": true
   },
   "outputs": [],
   "source": [
    "punishments = largeDf[largeDf['r']<0].groupby(['s', 'a', 'r']).size().reset_index(name='counts').sort_values(by=['s'])"
   ]
  },
  {
   "cell_type": "code",
   "execution_count": 89,
   "metadata": {
    "collapsed": true
   },
   "outputs": [],
   "source": [
    "not_zero_reward = largeDf[largeDf['r']!=0].groupby(['s', 'a', 'r']).size().reset_index(name='counts').sort_values(by=['s'])"
   ]
  },
  {
   "cell_type": "code",
   "execution_count": 88,
   "metadata": {
    "collapsed": false
   },
   "outputs": [
    {
     "data": {
      "text/plain": [
       "46287"
      ]
     },
     "execution_count": 88,
     "metadata": {},
     "output_type": "execute_result"
    }
   ],
   "source": [
    "len(punishments)"
   ]
  },
  {
   "cell_type": "code",
   "execution_count": 86,
   "metadata": {
    "collapsed": false
   },
   "outputs": [
    {
     "data": {
      "text/plain": [
       "45"
      ]
     },
     "execution_count": 86,
     "metadata": {},
     "output_type": "execute_result"
    }
   ],
   "source": [
    "len(larger_rewards[larger_rewards['counts']>1])"
   ]
  },
  {
   "cell_type": "code",
   "execution_count": 61,
   "metadata": {
    "collapsed": false
   },
   "outputs": [],
   "source": [
    "ra = {}\n",
    "\n",
    "for row in larger_rewards.itertuples():\n",
    "    if row.s not in ra:\n",
    "        ra[row.s] = {}\n",
    "    if row.a not in ra[row.s]:\n",
    "        ra[row.s][row.a] = []\n",
    "    ra[row.s][row.a].append(row.r)"
   ]
  },
  {
   "cell_type": "code",
   "execution_count": 62,
   "metadata": {
    "collapsed": false
   },
   "outputs": [],
   "source": [
    "ra_unique = {}\n",
    "\n",
    "for row in larger_rewards.itertuples():\n",
    "    if row.s not in ra_unique:\n",
    "        ra_unique[row.s] = {}\n",
    "    if row.a not in ra_unique[row.s]:\n",
    "        ra_unique[row.s][row.a] = []\n",
    "    for a in ra[row.s].keys():\n",
    "        ra_unique[row.s][a] = np.unique(ra[row.s][a])[0]"
   ]
  },
  {
   "cell_type": "code",
   "execution_count": 63,
   "metadata": {
    "collapsed": false
   },
   "outputs": [
    {
     "data": {
      "text/plain": [
       "44602"
      ]
     },
     "execution_count": 63,
     "metadata": {},
     "output_type": "execute_result"
    }
   ],
   "source": [
    "len(ra_unique)"
   ]
  },
  {
   "cell_type": "code",
   "execution_count": 80,
   "metadata": {
    "collapsed": false
   },
   "outputs": [
    {
     "name": "stdout",
     "output_type": "stream",
     "text": [
      "2114887 114\n",
      "2567396 22\n"
     ]
    }
   ],
   "source": [
    "for k,v in ra_unique.items():\n",
    "    for k1,v1 in v.items():\n",
    "        if len(v1) > 1:\n",
    "            print(k,k1)"
   ]
  },
  {
   "cell_type": "code",
   "execution_count": 84,
   "metadata": {
    "collapsed": true
   },
   "outputs": [],
   "source": [
    "reward_map = {}\n",
    "for s,a_map in ra_unique.items():\n",
    "    reward_map[s] = {}\n",
    "    for a,r_list in a_map.items():\n",
    "        reward_map[s][a] = r_list[0]"
   ]
  },
  {
   "cell_type": "code",
   "execution_count": 85,
   "metadata": {
    "collapsed": false
   },
   "outputs": [
    {
     "data": {
      "text/plain": [
       "{114: 3}"
      ]
     },
     "execution_count": 85,
     "metadata": {},
     "output_type": "execute_result"
    }
   ],
   "source": [
    "reward_map[2114887]"
   ]
  },
  {
   "cell_type": "code",
   "execution_count": 83,
   "metadata": {
    "collapsed": false
   },
   "outputs": [
    {
     "data": {
      "text/plain": [
       "{114: array([ 3, 10])}"
      ]
     },
     "execution_count": 83,
     "metadata": {},
     "output_type": "execute_result"
    }
   ],
   "source": [
    "ra_unique[2114887]"
   ]
  },
  {
   "cell_type": "code",
   "execution_count": 67,
   "metadata": {
    "collapsed": false
   },
   "outputs": [],
   "source": [
    "ra = {}\n",
    "for s in range(0,8):\n",
    "    ra[s] = {0:{},1:{},2:{},3:{},4:{},5:{},6:{},7:{},8:{},9:{}}\n",
    "\n",
    "for row in larger_rewards.itertuples():\n",
    "    for index,char in enumerate('%08d' % row.s):\n",
    "        if row.a not in ra[index][int(char)]:\n",
    "            ra[index][int(char)][row.a] = []\n",
    "        ra[index][int(char)][row.a].append(row.r)"
   ]
  },
  {
   "cell_type": "code",
   "execution_count": 71,
   "metadata": {
    "collapsed": false
   },
   "outputs": [],
   "source": [
    "r_unique = {}\n",
    "for s in range(0,8):\n",
    "    r_unique[s] = {0:{},1:{},2:{},3:{},4:{},5:{},6:{},7:{},8:{},9:{}}\n",
    "\n",
    "for s in range(0,8):\n",
    "    for s1 in range(0,10):\n",
    "        r_unique[s][s1] = {}\n",
    "        for a in ra[s][s1].keys():\n",
    "            r_unique[s][s1][a] = np.unique(ra[s][s1][a])"
   ]
  },
  {
   "cell_type": "code",
   "execution_count": 96,
   "metadata": {
    "collapsed": false
   },
   "outputs": [],
   "source": [
    "ra = {}\n",
    "\n",
    "for row in not_zero_reward.itertuples():\n",
    "    if row.s not in ra:\n",
    "        ra[row.s] = {}\n",
    "    if row.a not in ra[row.s]:\n",
    "        ra[row.s][row.a] = []\n",
    "    ra[row.s][row.a].append(row.r)\n",
    "#     if row.r < 0:\n",
    "#         print(row.s,row.a)\n",
    "#         break"
   ]
  },
  {
   "cell_type": "code",
   "execution_count": 98,
   "metadata": {
    "collapsed": false
   },
   "outputs": [
    {
     "data": {
      "text/plain": [
       "{32: [-10]}"
      ]
     },
     "execution_count": 98,
     "metadata": {},
     "output_type": "execute_result"
    }
   ],
   "source": [
    "ra[1347]"
   ]
  },
  {
   "cell_type": "code",
   "execution_count": null,
   "metadata": {
    "collapsed": true
   },
   "outputs": [],
   "source": []
  },
  {
   "cell_type": "code",
   "execution_count": 8,
   "metadata": {
    "collapsed": true
   },
   "outputs": [],
   "source": [
    "not_zero_reward = largeDf[largeDf['r']!=0].groupby(['s', 'a', 'r']).size().reset_index(name='counts').sort_values(by=['s'])"
   ]
  },
  {
   "cell_type": "code",
   "execution_count": 9,
   "metadata": {
    "collapsed": true
   },
   "outputs": [],
   "source": [
    "def create_reward_map(df):\n",
    "    ra = {}\n",
    "\n",
    "    for row in df.itertuples():\n",
    "        if row.s not in ra:\n",
    "            ra[row.s] = {}\n",
    "        if row.a not in ra[row.s]:\n",
    "            ra[row.s][row.a] = []\n",
    "        ra[row.s][row.a].append(row.r)\n",
    "    \n",
    "    ra_unique = {}\n",
    "\n",
    "    for row in df.itertuples():\n",
    "        if row.s not in ra_unique:\n",
    "            ra_unique[row.s] = {}\n",
    "        if row.a not in ra_unique[row.s]:\n",
    "            ra_unique[row.s][row.a] = []\n",
    "        for a in ra[row.s].keys():\n",
    "            l = np.unique(ra[row.s][a])\n",
    "            if len(l)>1:\n",
    "                print(row.s,a,l)\n",
    "            ra_unique[row.s][a] = l[0]\n",
    "\n",
    "    return ra_unique"
   ]
  },
  {
   "cell_type": "code",
   "execution_count": 10,
   "metadata": {
    "collapsed": false
   },
   "outputs": [
    {
     "name": "stdout",
     "output_type": "stream",
     "text": [
      "2114887 114 [ 3 10]\n",
      "2114887 114 [ 3 10]\n",
      "2567396 22 [10 20]\n",
      "2567396 22 [10 20]\n",
      "4450557 63 [-10  -5]\n",
      "4450557 63 [-10  -5]\n",
      "5354147 96 [-15  -5]\n",
      "5354147 96 [-15  -5]\n",
      "7113537 44 [-10  -5]\n",
      "7113537 44 [-10  -5]\n"
     ]
    }
   ],
   "source": [
    "reward_map = create_reward_map(not_zero_reward)"
   ]
  },
  {
   "cell_type": "code",
   "execution_count": 7,
   "metadata": {
    "collapsed": true
   },
   "outputs": [],
   "source": [
    "#states = range(0,10101010)"
   ]
  },
  {
   "cell_type": "code",
   "execution_count": 11,
   "metadata": {
    "collapsed": true
   },
   "outputs": [],
   "source": [
    "def get_reward(reward_map, state, action):\n",
    "    if state in reward_map and action in reward_map[state]:\n",
    "        return reward_map[state][action]\n",
    "    else:\n",
    "        return 0"
   ]
  },
  {
   "cell_type": "code",
   "execution_count": 12,
   "metadata": {
    "collapsed": false
   },
   "outputs": [],
   "source": [
    "def calc_T(df, states, actions):\n",
    "    T = {}\n",
    "    for s in states:\n",
    "        T[s] = {}\n",
    "\n",
    "    for row in df.itertuples():\n",
    "        if row.a not in T[row.s]:\n",
    "            T[row.s][row.a] = {}\n",
    "        T[row.s][row.a][row.sp] = row.counts\n",
    "    return T"
   ]
  },
  {
   "cell_type": "code",
   "execution_count": 11,
   "metadata": {
    "collapsed": false
   },
   "outputs": [],
   "source": [
    "def calc_T_prob(T, states, actions):\n",
    "    T_prob = {}\n",
    "    for s in states:\n",
    "        T_prob[s] = {}\n",
    "        for a in actions:\n",
    "            T_prob[s][a] = collections.defaultdict(lambda: 0)\n",
    "            if a not in T[s]:\n",
    "                continue\n",
    "#             if a not in T[s]:\n",
    "#                 for n in [1,-1,2,-2,3,-3,4,-4]:\n",
    "#                     if (s+n) in T and a in T[s+n]:\n",
    "#                         T[s][a] = T[s+n][a]\n",
    "#                 if a not in T[s]:\n",
    "#                     print(\"No neighbors of \", s,\" had \", a)\n",
    "#                     continue\n",
    "\n",
    "            sum_val = sum(T[s][a].values())\n",
    "            poss_states = T[s][a].keys()\n",
    "            for sp in poss_states:\n",
    "                T_prob[s][a][sp] = T[s][a][sp]/sum_val\n",
    "    return T_prob"
   ]
  },
  {
   "cell_type": "code",
   "execution_count": 13,
   "metadata": {
    "collapsed": true
   },
   "outputs": [],
   "source": [
    "def calc_T_prob_lite(df, T, states, actions):\n",
    "    T_prob = {}\n",
    "    \n",
    "    for s in states:\n",
    "        T_prob[s] = {}\n",
    "        for a in T[s].keys():\n",
    "            T_prob[s][a] = {}##collections.defaultdict(lambda: 0)\n",
    "            sum_val = sum(T[s][a].values())\n",
    "            for sp in T[s][a].keys():\n",
    "                T_prob[s][a][sp] = T[s][a][sp]/sum_val\n",
    "    return T_prob"
   ]
  },
  {
   "cell_type": "code",
   "execution_count": 14,
   "metadata": {
    "collapsed": false
   },
   "outputs": [],
   "source": [
    "sasp_counts = largeDf.groupby(['s', 'a', 'sp']).size().reset_index(name='counts')"
   ]
  },
  {
   "cell_type": "code",
   "execution_count": 15,
   "metadata": {
    "collapsed": true
   },
   "outputs": [],
   "source": [
    "T = calc_T(sasp_counts, states, actions)"
   ]
  },
  {
   "cell_type": "code",
   "execution_count": 16,
   "metadata": {
    "collapsed": true
   },
   "outputs": [],
   "source": [
    "T_prob = calc_T_prob_lite(sasp_counts, T, states, actions)"
   ]
  },
  {
   "cell_type": "code",
   "execution_count": null,
   "metadata": {
    "collapsed": true
   },
   "outputs": [],
   "source": []
  },
  {
   "cell_type": "code",
   "execution_count": 25,
   "metadata": {
    "collapsed": true
   },
   "outputs": [],
   "source": [
    "discount = 0.95\n",
    "    \n",
    "def policy_iter_lite(states, actions, T_prob, reward_map, iters=10):\n",
    "    policy = {}\n",
    "    U = {}\n",
    "    for s in states:\n",
    "        U[s] = 0\n",
    "        policy[s] = 1\n",
    "    for i in range(iters):\n",
    "        for s in T_prob.keys():\n",
    "            best_action = 1\n",
    "            best_action_util = -100000000\n",
    "            for a in T_prob[s].keys(): ## ignore actions we don't know about\n",
    "                sp_util = []\n",
    "                for sp in T_prob[s][a].keys():\n",
    "                    if sp in T_prob[s][a] and sp in U:\n",
    "                        sp_util.append(T_prob[s][a][sp]*U[sp])\n",
    "                action_util = get_reward(reward_map, s,a) + discount*sum(sp_util)\n",
    "                if action_util > best_action_util:\n",
    "                    best_action = a\n",
    "                    best_action_util = action_util\n",
    "            U[s] = best_action_util\n",
    "            policy[s] = best_action\n",
    "    return policy, U"
   ]
  },
  {
   "cell_type": "code",
   "execution_count": 21,
   "metadata": {
    "collapsed": true
   },
   "outputs": [],
   "source": [
    "actual_states = range(0,10101010)"
   ]
  },
  {
   "cell_type": "code",
   "execution_count": 41,
   "metadata": {
    "collapsed": false
   },
   "outputs": [],
   "source": [
    "policy, utility = policy_iter_lite(actual_states, actions, T_prob, reward_map, 5)"
   ]
  },
  {
   "cell_type": "code",
   "execution_count": 37,
   "metadata": {
    "collapsed": false
   },
   "outputs": [
    {
     "data": {
      "text/plain": [
       "10101010"
      ]
     },
     "execution_count": 37,
     "metadata": {},
     "output_type": "execute_result"
    }
   ],
   "source": [
    "len(policy.keys())"
   ]
  },
  {
   "cell_type": "code",
   "execution_count": 28,
   "metadata": {
    "collapsed": false
   },
   "outputs": [
    {
     "data": {
      "text/plain": [
       "10101010"
      ]
     },
     "execution_count": 28,
     "metadata": {},
     "output_type": "execute_result"
    }
   ],
   "source": [
    "len(utility.keys())"
   ]
  },
  {
   "cell_type": "code",
   "execution_count": 38,
   "metadata": {
    "collapsed": false
   },
   "outputs": [
    {
     "data": {
      "text/plain": [
       "861064"
      ]
     },
     "execution_count": 38,
     "metadata": {},
     "output_type": "execute_result"
    }
   ],
   "source": [
    "len(states)"
   ]
  },
  {
   "cell_type": "code",
   "execution_count": 39,
   "metadata": {
    "collapsed": true
   },
   "outputs": [],
   "source": [
    "def save_policy(policy, keys, filename):\n",
    "    policy_sorted = []\n",
    "    for s in keys:\n",
    "        policy_sorted.append(str(policy[s]))\n",
    "    policy_string = '\\n'.join(policy_sorted)\n",
    "    with open(filename, 'w') as f:\n",
    "        f.write(policy_string)\n",
    "        f.write('\\n')"
   ]
  },
  {
   "cell_type": "code",
   "execution_count": 42,
   "metadata": {
    "collapsed": false
   },
   "outputs": [],
   "source": [
    "save_policy(policy, actual_states, 'large3.policy')"
   ]
  },
  {
   "cell_type": "code",
   "execution_count": null,
   "metadata": {
    "collapsed": true
   },
   "outputs": [],
   "source": []
  }
 ],
 "metadata": {
  "kernelspec": {
   "display_name": "Python 3",
   "language": "python",
   "name": "python3"
  },
  "language_info": {
   "codemirror_mode": {
    "name": "ipython",
    "version": 3
   },
   "file_extension": ".py",
   "mimetype": "text/x-python",
   "name": "python",
   "nbconvert_exporter": "python",
   "pygments_lexer": "ipython3",
   "version": "3.5.2"
  }
 },
 "nbformat": 4,
 "nbformat_minor": 1
}
