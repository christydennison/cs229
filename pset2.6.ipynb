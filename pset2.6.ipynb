{
 "cells": [
  {
   "cell_type": "markdown",
   "metadata": {
    "deletable": true,
    "editable": true
   },
   "source": [
    "# Pset2.6"
   ]
  },
  {
   "cell_type": "code",
   "execution_count": 3,
   "metadata": {
    "collapsed": false,
    "deletable": true,
    "editable": true
   },
   "outputs": [
    {
     "name": "stdout",
     "output_type": "stream",
     "text": [
      "The autoreload extension is already loaded. To reload it, use:\n",
      "  %reload_ext autoreload\n"
     ]
    }
   ],
   "source": [
    "from __future__ import print_function, division\n",
    "import time, os, json\n",
    "import numpy as np\n",
    "import matplotlib.pyplot as plt\n",
    "import quasars as q\n",
    "import fisher_scoring as fs\n",
    "\n",
    "%matplotlib inline\n",
    "plt.rcParams['figure.figsize'] = (10.0, 8.0) # set default size of plots\n",
    "plt.rcParams['image.interpolation'] = 'nearest'\n",
    "plt.rcParams['image.cmap'] = 'gray'\n",
    "\n",
    "# for auto-reloading external modules\n",
    "# see http://stackoverflow.com/questions/1907993/autoreload-of-modules-in-ipython\n",
    "%load_ext autoreload\n",
    "%autoreload 2"
   ]
  },
  {
   "cell_type": "code",
   "execution_count": 44,
   "metadata": {
    "collapsed": false
   },
   "outputs": [],
   "source": [
    "def readMatrix(file):\n",
    "    fd = open(file, 'r')\n",
    "    hdr = fd.readline()\n",
    "    rows, cols = [int(s) for s in fd.readline().strip().split()]\n",
    "    tokens = fd.readline().strip().split()\n",
    "    matrix = np.zeros((rows, cols))\n",
    "    Y = []\n",
    "    for i, line in enumerate(fd):\n",
    "        nums = [int(x) for x in line.strip().split()]\n",
    "        Y.append(nums[0])\n",
    "        kv = np.array(nums[1:])\n",
    "        k = np.cumsum(kv[:-1:2])\n",
    "        v = kv[1::2]\n",
    "        matrix[i, k] = v\n",
    "    return matrix, tokens, np.array(Y)\n",
    "\n",
    "def nb_train(matrix, category):\n",
    "    M = matrix.shape[0]\n",
    "    N = matrix.shape[1]\n",
    "\n",
    "    count_not_spam = np.sum(category == 0)\n",
    "    count_spam = np.sum(category == 1)\n",
    "\n",
    "    word_count_not_spam = np.sum(matrix[category == 0], axis=0)\n",
    "    word_count_spam = np.sum(matrix[category == 1], axis=0)\n",
    "    size_vocab = N\n",
    "    \n",
    "    word_given_spam = np.log((word_count_spam + 1)/(size_vocab + np.sum(word_count_spam)))\n",
    "    word_given_not_spam = np.log((word_count_not_spam + 1)/(size_vocab + np.sum(word_count_not_spam)))\n",
    "    \n",
    "    prob_spam = np.log(count_spam / M)\n",
    "    prob_not_spam = np.log(count_not_spam / M)\n",
    "\n",
    "    return word_given_spam, word_given_not_spam, prob_spam, prob_not_spam\n",
    "\n",
    "def nb_test(matrix, state):\n",
    "    M = matrix.shape[0]\n",
    "    N = matrix.shape[1]\n",
    "    word_given_spam, word_given_not_spam, prob_spam, prob_not_spam = state\n",
    "    \n",
    "    spams = np.exp(prob_spam + np.sum(np.multiply(matrix, word_given_spam), axis=1))\n",
    "    not_spams = np.exp(prob_not_spam + np.sum(np.multiply(matrix, word_given_not_spam), axis=1))\n",
    "    return spams > not_spams\n",
    "\n",
    "def evaluate(output, label):\n",
    "    error = np.sum(output != label) * 1. / len(output)\n",
    "    print('Error: %1.4f' % error)\n",
    "    return error"
   ]
  },
  {
   "cell_type": "code",
   "execution_count": 5,
   "metadata": {
    "collapsed": false
   },
   "outputs": [],
   "source": [
    "trainMatrix, tokenlist, trainCategory = readMatrix('spam_data/MATRIX.TRAIN')\n",
    "testMatrix, tokenlist, testCategory = readMatrix('spam_data/MATRIX.TEST')"
   ]
  },
  {
   "cell_type": "code",
   "execution_count": 23,
   "metadata": {
    "collapsed": true
   },
   "outputs": [],
   "source": [
    "state = nb_train(trainMatrix, trainCategory)"
   ]
  },
  {
   "cell_type": "code",
   "execution_count": 25,
   "metadata": {
    "collapsed": true
   },
   "outputs": [],
   "source": [
    "output = nb_test(testMatrix, state)"
   ]
  },
  {
   "cell_type": "markdown",
   "metadata": {},
   "source": [
    "## 6 a"
   ]
  },
  {
   "cell_type": "code",
   "execution_count": 46,
   "metadata": {
    "collapsed": false
   },
   "outputs": [
    {
     "name": "stdout",
     "output_type": "stream",
     "text": [
      "Error: 0.1437\n"
     ]
    }
   ],
   "source": [
    "error = evaluate(output, testCategory)"
   ]
  },
  {
   "cell_type": "markdown",
   "metadata": {},
   "source": [
    "## 6 b"
   ]
  },
  {
   "cell_type": "code",
   "execution_count": 42,
   "metadata": {
    "collapsed": false
   },
   "outputs": [
    {
     "name": "stdout",
     "output_type": "stream",
     "text": [
      "['valet' 'ebai' 'unsubscrib' 'spam' 'httpaddr']\n"
     ]
    }
   ],
   "source": [
    "word_given_spam, word_given_not_spam, prob_spam, prob_not_spam = state\n",
    "ratios = np.exp(word_given_spam - word_given_not_spam)\n",
    "print(np.asarray(tokenlist)[np.argsort(ratios)[-5:]])"
   ]
  },
  {
   "cell_type": "markdown",
   "metadata": {},
   "source": [
    "## 6 c"
   ]
  },
  {
   "cell_type": "code",
   "execution_count": 63,
   "metadata": {
    "collapsed": false
   },
   "outputs": [
    {
     "name": "stdout",
     "output_type": "stream",
     "text": [
      "Error: 0.1613\n",
      "Error: 0.1525\n",
      "Error: 0.1525\n",
      "Error: 0.1450\n",
      "Error: 0.1425\n",
      "Error: 0.1437\n"
     ]
    },
    {
     "data": {
      "image/png": "[encoded data removed]",
      "text/plain": [
       "<matplotlib.figure.Figure at 0x7fa9ceb63be0>"
      ]
     },
     "metadata": {},
     "output_type": "display_data"
    }
   ],
   "source": [
    "nb_errors = []\n",
    "sizes = ['50', '100', '200', '400', '800', '1400']\n",
    "for size in sizes:\n",
    "    tm, tl, tc = readMatrix('spam_data/MATRIX.TRAIN.'+size)\n",
    "    output = nb_test(testMatrix, nb_train(tm, tc))\n",
    "    nb_errors.append(evaluate(output, testCategory))\n",
    "\n",
    "plt.figure()\n",
    "plt.ylabel('Error')\n",
    "plt.xlabel('Train Size')\n",
    "plt.plot(sizes, nb_errors)\n",
    "plt.suptitle('Naive Bayes: Error vs Training Size')\n",
    "plt.show()"
   ]
  },
  {
   "cell_type": "markdown",
   "metadata": {},
   "source": [
    "#### A training set size of 800 appears to produce the lowest test error for Naive Bayes."
   ]
  },
  {
   "cell_type": "markdown",
   "metadata": {},
   "source": [
    "## 6 c"
   ]
  },
  {
   "cell_type": "code",
   "execution_count": 64,
   "metadata": {
    "collapsed": false
   },
   "outputs": [],
   "source": [
    "import spam_data.svm as svm"
   ]
  },
  {
   "cell_type": "code",
   "execution_count": 65,
   "metadata": {
    "collapsed": false
   },
   "outputs": [
    {
     "name": "stdout",
     "output_type": "stream",
     "text": [
      "Error: 0.0175\n",
      "Error: 0.0175\n",
      "Error: 0.0025\n",
      "Error: 0.0025\n",
      "Error: 0.0000\n",
      "Error: 0.0000\n"
     ]
    },
    {
     "data": {
      "image/png": "[encoded data removed]",
      "text/plain": [
       "<matplotlib.figure.Figure at 0x7fa9d1ad8898>"
      ]
     },
     "metadata": {},
     "output_type": "display_data"
    }
   ],
   "source": [
    "svm_errors = []\n",
    "for size in sizes:\n",
    "    svm_errors.append(svm.main(size))\n",
    "\n",
    "plt.figure()\n",
    "plt.ylabel('Error')\n",
    "plt.xlabel('Train Size')\n",
    "plt.plot(sizes, svm_errors)\n",
    "plt.suptitle('SVM: Error vs Training Size')\n",
    "plt.show()"
   ]
  },
  {
   "cell_type": "markdown",
   "metadata": {},
   "source": [
    "## 6 d\n",
    "SVM tends to do better with more data, whereas NB has a sweet spot, but they both do better past 400."
   ]
  },
  {
   "cell_type": "code",
   "execution_count": 71,
   "metadata": {
    "collapsed": false
   },
   "outputs": [
    {
     "data": {
      "image/png": "[encoded data removed]",
      "text/plain": [
       "<matplotlib.figure.Figure at 0x7fa9d16f2e48>"
      ]
     },
     "metadata": {},
     "output_type": "display_data"
    }
   ],
   "source": [
    "plt.figure()\n",
    "plt.ylabel('Error')\n",
    "plt.xlabel('Train Size')\n",
    "plt.plot(sizes, nb_errors, label='NB')\n",
    "plt.plot(sizes, svm_errors, label='SVM')\n",
    "plt.legend(loc='center right')\n",
    "plt.suptitle('SVM vs NB: Error vs Training Size')\n",
    "plt.show()"
   ]
  },
  {
   "cell_type": "code",
   "execution_count": null,
   "metadata": {
    "collapsed": true
   },
   "outputs": [],
   "source": []
  }
 ],
 "metadata": {
  "kernelspec": {
   "display_name": "Python 3",
   "language": "python",
   "name": "python3"
  },
  "language_info": {
   "codemirror_mode": {
    "name": "ipython",
    "version": 3
   },
   "file_extension": ".py",
   "mimetype": "text/x-python",
   "name": "python",
   "nbconvert_exporter": "python",
   "pygments_lexer": "ipython3",
   "version": "3.5.2"
  }
 },
 "nbformat": 4,
 "nbformat_minor": 1
}
